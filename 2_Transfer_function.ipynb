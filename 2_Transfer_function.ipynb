{
  "nbformat": 4,
  "nbformat_minor": 0,
  "metadata": {
    "colab": {
      "name": "2-Transfer function.ipynb",
      "provenance": [],
      "collapsed_sections": []
    },
    "kernelspec": {
      "name": "python3",
      "display_name": "Python 3"
    }
  },
  "cells": [
    {
      "cell_type": "code",
      "metadata": {
        "id": "rn3wS2w60fKj"
      },
      "source": [
        "import numpy as np\r\n",
        "import matplotlib.pyplot as plt"
      ],
      "execution_count": 2,
      "outputs": []
    },
    {
      "cell_type": "code",
      "metadata": {
        "id": "z4qGP79C02gd"
      },
      "source": [
        "#Transfer Function"
      ],
      "execution_count": 3,
      "outputs": []
    },
    {
      "cell_type": "code",
      "metadata": {
        "id": "TqdWm0nW0_Ob"
      },
      "source": [
        "#Linear"
      ],
      "execution_count": 4,
      "outputs": []
    },
    {
      "cell_type": "code",
      "metadata": {
        "id": "iGPeXGBz1DbZ"
      },
      "source": [
        "\r\n",
        "def linear(x):\r\n",
        "  return x "
      ],
      "execution_count": 6,
      "outputs": []
    },
    {
      "cell_type": "code",
      "metadata": {
        "colab": {
          "base_uri": "https://localhost:8080/",
          "height": 282
        },
        "id": "WwJM1Kb01LCG",
        "outputId": "c1a7ded0-8f49-4c33-fffb-6c95e83d09e7"
      },
      "source": [
        "x=np.arange(-3,3,0.01)\r\n",
        "plt.axhline(0,color='blue') \r\n",
        "plt.axvline(0,color='blue') \r\n",
        "plt.plot(x, linear(x))"
      ],
      "execution_count": 10,
      "outputs": [
        {
          "output_type": "execute_result",
          "data": {
            "text/plain": [
              "[<matplotlib.lines.Line2D at 0x7f497cca0b70>]"
            ]
          },
          "metadata": {
            "tags": []
          },
          "execution_count": 10
        },
        {
          "output_type": "display_data",
          "data": {
            "image/png": "[encoded data removed]",
            "text/plain": [
              "<Figure size 432x288 with 1 Axes>"
            ]
          },
          "metadata": {
            "tags": [],
            "needs_background": "light"
          }
        }
      ]
    },
    {
      "cell_type": "code",
      "metadata": {
        "id": "-8-_Bz3d1XmO"
      },
      "source": [
        "#ReLU"
      ],
      "execution_count": 11,
      "outputs": []
    },
    {
      "cell_type": "code",
      "metadata": {
        "id": "AWCKqCTU2W5G"
      },
      "source": [
        "def reLu(x):\r\n",
        "  return np.array([xi if xi >= 0 else 0 for xi in x])"
      ],
      "execution_count": 13,
      "outputs": []
    },
    {
      "cell_type": "code",
      "metadata": {
        "colab": {
          "base_uri": "https://localhost:8080/",
          "height": 282
        },
        "id": "Gn9F9dBL2ibT",
        "outputId": "3de944c4-3f9b-4dc7-bc2a-326f89feed31"
      },
      "source": [
        "x=np.arange(-3,3,0.01)\r\n",
        "plt.axhline(0,color='grey') \r\n",
        "plt.axvline(0,color='grey') \r\n",
        "plt.plot(x, reLu(x))"
      ],
      "execution_count": 15,
      "outputs": [
        {
          "output_type": "execute_result",
          "data": {
            "text/plain": [
              "[<matplotlib.lines.Line2D at 0x7f497cbf9b70>]"
            ]
          },
          "metadata": {
            "tags": []
          },
          "execution_count": 15
        },
        {
          "output_type": "display_data",
          "data": {
            "image/png": "[encoded data removed]",
            "text/plain": [
              "<Figure size 432x288 with 1 Axes>"
            ]
          },
          "metadata": {
            "tags": [],
            "needs_background": "light"
          }
        }
      ]
    },
    {
      "cell_type": "code",
      "metadata": {
        "id": "0nPPaFun27Y_"
      },
      "source": [
        "#Sigmoid"
      ],
      "execution_count": 16,
      "outputs": []
    },
    {
      "cell_type": "code",
      "metadata": {
        "id": "gsIT0xnR298t"
      },
      "source": [
        "def sigmoid(x, lam=1):\r\n",
        "  return 1/(1+np.exp(-lam*x))"
      ],
      "execution_count": 18,
      "outputs": []
    },
    {
      "cell_type": "code",
      "metadata": {
        "colab": {
          "base_uri": "https://localhost:8080/",
          "height": 282
        },
        "id": "VYq7VCFR3L9_",
        "outputId": "af08117c-b518-4220-90e2-e17dca601d43"
      },
      "source": [
        "x=np.arange(-8,8,0.005)\r\n",
        "plt.axhline(0,color='grey') \r\n",
        "plt.axvline(0,color='grey') \r\n",
        "plt.plot(x, sigmoid(x))"
      ],
      "execution_count": 20,
      "outputs": [
        {
          "output_type": "execute_result",
          "data": {
            "text/plain": [
              "[<matplotlib.lines.Line2D at 0x7f497cae3320>]"
            ]
          },
          "metadata": {
            "tags": []
          },
          "execution_count": 20
        },
        {
          "output_type": "display_data",
          "data": {
            "image/png": "[encoded data removed]",
            "text/plain": [
              "<Figure size 432x288 with 1 Axes>"
            ]
          },
          "metadata": {
            "tags": [],
            "needs_background": "light"
          }
        }
      ]
    },
    {
      "cell_type": "code",
      "metadata": {
        "id": "vlEWmNxK3UsO"
      },
      "source": [
        "#Tanh"
      ],
      "execution_count": 21,
      "outputs": []
    },
    {
      "cell_type": "code",
      "metadata": {
        "id": "NBRuPSSI3cou"
      },
      "source": [
        "def tanh(x, lam=1):\r\n",
        "  return (np.exp(lam*x)-np.exp(-lam*x))/(np.exp(lam*x)+np.exp(-lam*x))"
      ],
      "execution_count": 23,
      "outputs": []
    },
    {
      "cell_type": "code",
      "metadata": {
        "colab": {
          "base_uri": "https://localhost:8080/",
          "height": 282
        },
        "id": "Ggb81Kjy3ssd",
        "outputId": "690c042a-819b-4c01-90cb-2e73c4c05362"
      },
      "source": [
        "x=np.arange(-8,8,0.01)\r\n",
        "plt.axhline(0,color='grey') \r\n",
        "plt.axvline(0,color='grey') \r\n",
        "plt.plot(x, tanh(x))"
      ],
      "execution_count": 25,
      "outputs": [
        {
          "output_type": "execute_result",
          "data": {
            "text/plain": [
              "[<matplotlib.lines.Line2D at 0x7f497c9ca4e0>]"
            ]
          },
          "metadata": {
            "tags": []
          },
          "execution_count": 25
        },
        {
          "output_type": "display_data",
          "data": {
            "image/png": "[encoded data removed]",
            "text/plain": [
              "<Figure size 432x288 with 1 Axes>"
            ]
          },
          "metadata": {
            "tags": [],
            "needs_background": "light"
          }
        }
      ]
    },
    {
      "cell_type": "code",
      "metadata": {
        "id": "hGsgKhio32bt"
      },
      "source": [
        "#Polynomial"
      ],
      "execution_count": 26,
      "outputs": []
    },
    {
      "cell_type": "code",
      "metadata": {
        "id": "LFChzQO64IIn"
      },
      "source": [
        "x = np.arange(-40,40,0.05)"
      ],
      "execution_count": 28,
      "outputs": []
    },
    {
      "cell_type": "code",
      "metadata": {
        "id": "b9FkWC_S4aD8"
      },
      "source": [
        "f1 = x**2 + 3*x  + 1"
      ],
      "execution_count": 30,
      "outputs": []
    },
    {
      "cell_type": "code",
      "metadata": {
        "colab": {
          "base_uri": "https://localhost:8080/",
          "height": 282
        },
        "id": "b3gPNX8s4d3b",
        "outputId": "97443410-b60e-4952-c30f-90e35b841824"
      },
      "source": [
        "plt.axhline(0,color='grey') \r\n",
        "plt.axvline(0,color='grey') \r\n",
        "plt.plot(x,f1)"
      ],
      "execution_count": 31,
      "outputs": [
        {
          "output_type": "execute_result",
          "data": {
            "text/plain": [
              "[<matplotlib.lines.Line2D at 0x7f497c9404a8>]"
            ]
          },
          "metadata": {
            "tags": []
          },
          "execution_count": 31
        },
        {
          "output_type": "display_data",
          "data": {
            "image/png": "[encoded data removed]",
            "text/plain": [
              "<Figure size 432x288 with 1 Axes>"
            ]
          },
          "metadata": {
            "tags": [],
            "needs_background": "light"
          }
        }
      ]
    }
  ]
}